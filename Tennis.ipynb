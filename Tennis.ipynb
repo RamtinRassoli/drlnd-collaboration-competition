{
 "cells": [
  {
   "cell_type": "markdown",
   "metadata": {},
   "source": [
    "# Collaboration and Competition\n",
    "\n",
    "---\n",
    "\n",
    "You are welcome to use this coding environment to train your agent for the project.  Follow the instructions below to get started!\n"
   ]
  },
  {
   "cell_type": "code",
   "execution_count": 3,
   "metadata": {},
   "outputs": [
    {
     "name": "stderr",
     "output_type": "stream",
     "text": [
      "INFO:unityagents:\n",
      "'Academy' started successfully!\n",
      "Unity Academy name: Academy\n",
      "        Number of Brains: 1\n",
      "        Number of External Brains : 1\n",
      "        Lesson number : 0\n",
      "        Reset Parameters :\n",
      "\t\t\n",
      "Unity brain name: TennisBrain\n",
      "        Number of Visual Observations (per agent): 0\n",
      "        Vector Observation space type: continuous\n",
      "        Vector Observation space size (per agent): 8\n",
      "        Number of stacked Vector Observation: 3\n",
      "        Vector Action space type: continuous\n",
      "        Vector Action space size (per agent): 2\n",
      "        Vector Action descriptions: , \n"
     ]
    }
   ],
   "source": [
    "from unityagents import UnityEnvironment\n",
    "import numpy as np\n",
    "\n",
    "env = UnityEnvironment(file_name=\"/data/Tennis_Linux_NoVis/Tennis\")"
   ]
  },
  {
   "cell_type": "markdown",
   "metadata": {},
   "source": [
    "Environments contain **_brains_** which are responsible for deciding the actions of their associated agents. Here we check for the first brain available, and set it as the default brain we will be controlling from Python."
   ]
  },
  {
   "cell_type": "code",
   "execution_count": 4,
   "metadata": {},
   "outputs": [],
   "source": [
    "# get the default brain\n",
    "brain_name = env.brain_names[0]\n",
    "brain = env.brains[brain_name]"
   ]
  },
  {
   "cell_type": "markdown",
   "metadata": {},
   "source": [
    "### 2. Examine the State and Action Spaces\n",
    "\n",
    "Run the code cell below to print some information about the environment."
   ]
  },
  {
   "cell_type": "code",
   "execution_count": 5,
   "metadata": {},
   "outputs": [
    {
     "name": "stdout",
     "output_type": "stream",
     "text": [
      "Number of agents: 2\n",
      "Size of each action: 2\n",
      "There are 2 agents. Each observes a state with length: 24\n",
      "The state for the first agent looks like: [ 0.          0.          0.          0.          0.          0.          0.\n",
      "  0.          0.          0.          0.          0.          0.          0.\n",
      "  0.          0.         -6.65278625 -1.5        -0.          0.\n",
      "  6.83172083  6.         -0.          0.        ]\n"
     ]
    }
   ],
   "source": [
    "# reset the environment\n",
    "env_info = env.reset(train_mode=True)[brain_name]\n",
    "\n",
    "# number of agents \n",
    "num_agents = len(env_info.agents)\n",
    "print('Number of agents:', num_agents)\n",
    "\n",
    "# size of each action\n",
    "action_size = brain.vector_action_space_size\n",
    "print('Size of each action:', action_size)\n",
    "\n",
    "# examine the state space \n",
    "states = env_info.vector_observations\n",
    "state_size = states.shape[1]\n",
    "print('There are {} agents. Each observes a state with length: {}'.format(states.shape[0], state_size))\n",
    "print('The state for the first agent looks like:', states[0])"
   ]
  },
  {
   "cell_type": "markdown",
   "metadata": {},
   "source": [
    "### 3. Take Random Actions in the Environment\n",
    "\n",
    "In the next code cell, you will learn how to use the Python API to control the agent and receive feedback from the environment.\n",
    "\n",
    "Note that **in this coding environment, you will not be able to watch the agents while they are training**, and you should set `train_mode=True` to restart the environment."
   ]
  },
  {
   "cell_type": "code",
   "execution_count": 5,
   "metadata": {},
   "outputs": [
    {
     "name": "stdout",
     "output_type": "stream",
     "text": [
      "Total score (averaged over agents) this episode: 0.04500000085681677\n",
      "Total score (averaged over agents) this episode: -0.004999999888241291\n",
      "Total score (averaged over agents) this episode: -0.004999999888241291\n",
      "Total score (averaged over agents) this episode: -0.004999999888241291\n",
      "Total score (averaged over agents) this episode: -0.004999999888241291\n"
     ]
    }
   ],
   "source": [
    "for i in range(5):                                         # play game for 5 episodes\n",
    "    env_info = env.reset(train_mode=False)[brain_name]     # reset the environment    \n",
    "    states = env_info.vector_observations                  # get the current state (for each agent)\n",
    "    scores = np.zeros(num_agents)                          # initialize the score (for each agent)\n",
    "    while True:\n",
    "        actions = np.random.randn(num_agents, action_size) # select an action (for each agent)\n",
    "        actions = np.clip(actions, -1, 1)                  # all actions between -1 and 1\n",
    "        env_info = env.step(actions)[brain_name]           # send all actions to tne environment\n",
    "        next_states = env_info.vector_observations         # get next state (for each agent)\n",
    "        rewards = env_info.rewards                         # get reward (for each agent)\n",
    "        dones = env_info.local_done                        # see if episode finished\n",
    "        scores += env_info.rewards                         # update the score (for each agent)\n",
    "        states = next_states                               # roll over states to next time step\n",
    "        if np.any(dones):                                  # exit loop if episode finished\n",
    "            break\n",
    "    print('Total score (averaged over agents) this episode: {}'.format(np.mean(scores)))"
   ]
  },
  {
   "cell_type": "markdown",
   "metadata": {},
   "source": [
    "When finished, you can close the environment."
   ]
  },
  {
   "cell_type": "code",
   "execution_count": 6,
   "metadata": {},
   "outputs": [],
   "source": [
    "env.close()"
   ]
  },
  {
   "cell_type": "markdown",
   "metadata": {},
   "source": [
    "### 4. It's Your Turn!\n",
    "\n",
    "Now it's your turn to train your own agent to solve the environment!  A few **important notes**:\n",
    "- When training the environment, set `train_mode=True`, so that the line for resetting the environment looks like the following:\n",
    "```python\n",
    "env_info = env.reset(train_mode=True)[brain_name]\n",
    "```\n",
    "- To structure your work, you're welcome to work directly in this Jupyter notebook, or you might like to start over with a new file!  You can see the list of files in the workspace by clicking on **_Jupyter_** in the top left corner of the notebook.\n",
    "- In this coding environment, you will not be able to watch the agents while they are training.  However, **_after training the agents_**, you can download the saved model weights to watch the agents on your own machine! "
   ]
  },
  {
   "cell_type": "code",
   "execution_count": 6,
   "metadata": {},
   "outputs": [],
   "source": [
    "env_info = env.reset(train_mode=True)[brain_name]"
   ]
  },
  {
   "cell_type": "code",
   "execution_count": 10,
   "metadata": {},
   "outputs": [],
   "source": [
    "from model.agent import Agent\n",
    "from model.utils import get_config\n",
    "from main import ddpg"
   ]
  },
  {
   "cell_type": "code",
   "execution_count": 11,
   "metadata": {},
   "outputs": [],
   "source": [
    "config = get_config(\"drlnd-collaboration-competition/model/config.yaml\")"
   ]
  },
  {
   "cell_type": "code",
   "execution_count": 12,
   "metadata": {},
   "outputs": [],
   "source": [
    "agent = Agent(state_size=state_size, action_size=action_size, config=config, \\\n",
    "              random_seed=10, num_agents=num_agents)"
   ]
  },
  {
   "cell_type": "code",
   "execution_count": 13,
   "metadata": {
    "scrolled": true
   },
   "outputs": [
    {
     "name": "stdout",
     "output_type": "stream",
     "text": [
      "start the learning process...\n",
      "Episode 10\tAverage Score: -0.00\n",
      "Episode 20\tAverage Score: -0.00\n",
      "Episode 30\tAverage Score: -0.00\n",
      "Episode 40\tAverage Score: -0.00\n",
      "Episode 50\tAverage Score: -0.00\n",
      "Episode 60\tAverage Score: -0.00\n",
      "Episode 70\tAverage Score: -0.00\n",
      "Episode 80\tAverage Score: -0.00\n",
      "Episode 90\tAverage Score: -0.00\n",
      "Episode 100\tAverage Score: -0.00\n",
      "Episode 110\tAverage Score: -0.00\n",
      "Episode 120\tAverage Score: -0.00\n",
      "Episode 130\tAverage Score: -0.00\n",
      "Episode 140\tAverage Score: -0.00\n",
      "Episode 150\tAverage Score: -0.00\n",
      "Episode 160\tAverage Score: -0.00\n",
      "Episode 170\tAverage Score: -0.00\n",
      "Episode 180\tAverage Score: -0.00\n",
      "Episode 190\tAverage Score: -0.00\n",
      "Episode 200\tAverage Score: -0.00\n",
      "Episode 210\tAverage Score: -0.00\n",
      "Episode 220\tAverage Score: -0.00\n",
      "Episode 230\tAverage Score: 0.00\n",
      "Episode 240\tAverage Score: 0.00\n",
      "Episode 250\tAverage Score: 0.00\n",
      "Episode 260\tAverage Score: 0.00\n",
      "Episode 270\tAverage Score: 0.00\n",
      "Episode 280\tAverage Score: 0.00\n",
      "Episode 290\tAverage Score: 0.00\n",
      "Episode 300\tAverage Score: 0.00\n",
      "Episode 310\tAverage Score: 0.00\n",
      "Episode 320\tAverage Score: 0.00\n",
      "Episode 330\tAverage Score: -0.00\n",
      "Episode 340\tAverage Score: -0.00\n",
      "Episode 350\tAverage Score: -0.00\n",
      "Episode 360\tAverage Score: -0.00\n",
      "Episode 370\tAverage Score: -0.00\n",
      "Episode 380\tAverage Score: -0.00\n",
      "Episode 390\tAverage Score: -0.00\n",
      "Episode 400\tAverage Score: -0.00\n",
      "Episode 410\tAverage Score: -0.00\n",
      "Episode 420\tAverage Score: -0.00\n",
      "Episode 430\tAverage Score: -0.00\n",
      "Episode 440\tAverage Score: -0.00\n",
      "Episode 450\tAverage Score: -0.00\n",
      "Episode 460\tAverage Score: -0.00\n",
      "Episode 470\tAverage Score: -0.00\n",
      "Episode 480\tAverage Score: -0.00\n",
      "Episode 490\tAverage Score: -0.00\n",
      "Episode 500\tAverage Score: -0.00\n",
      "Episode 510\tAverage Score: -0.00\n",
      "Episode 520\tAverage Score: -0.00\n",
      "Episode 530\tAverage Score: -0.00\n",
      "Episode 540\tAverage Score: -0.00\n",
      "Episode 550\tAverage Score: -0.00\n",
      "Episode 560\tAverage Score: -0.00\n",
      "Episode 570\tAverage Score: -0.00\n",
      "Episode 580\tAverage Score: -0.00\n",
      "Episode 590\tAverage Score: -0.00\n",
      "Episode 600\tAverage Score: -0.00\n",
      "Episode 610\tAverage Score: -0.00\n",
      "Episode 620\tAverage Score: -0.00\n",
      "Episode 630\tAverage Score: -0.00\n",
      "Episode 640\tAverage Score: 0.00\n",
      "Episode 650\tAverage Score: 0.00\n",
      "Episode 660\tAverage Score: 0.00\n",
      "Episode 670\tAverage Score: 0.01\n",
      "Episode 680\tAverage Score: 0.01\n",
      "Episode 690\tAverage Score: 0.01\n",
      "Episode 700\tAverage Score: 0.02\n",
      "Episode 710\tAverage Score: 0.02\n",
      "Episode 720\tAverage Score: 0.03\n",
      "Episode 730\tAverage Score: 0.03\n",
      "Episode 740\tAverage Score: 0.04\n",
      "Episode 750\tAverage Score: 0.04\n",
      "Episode 760\tAverage Score: 0.04\n",
      "Episode 770\tAverage Score: 0.04\n",
      "Episode 780\tAverage Score: 0.04\n",
      "Episode 790\tAverage Score: 0.04\n",
      "Episode 800\tAverage Score: 0.03\n",
      "Episode 810\tAverage Score: 0.03\n",
      "Episode 820\tAverage Score: 0.02\n",
      "Episode 830\tAverage Score: 0.01\n",
      "Episode 840\tAverage Score: 0.01\n",
      "Episode 850\tAverage Score: 0.00\n",
      "Episode 860\tAverage Score: -0.00\n",
      "Episode 870\tAverage Score: -0.00\n",
      "Episode 880\tAverage Score: -0.00\n",
      "Episode 890\tAverage Score: -0.00\n",
      "Episode 900\tAverage Score: 0.00\n",
      "Episode 910\tAverage Score: 0.00\n",
      "Episode 920\tAverage Score: 0.01\n",
      "Episode 930\tAverage Score: 0.01\n",
      "Episode 940\tAverage Score: 0.01\n",
      "Episode 950\tAverage Score: 0.02\n",
      "Episode 960\tAverage Score: 0.02\n",
      "Episode 970\tAverage Score: 0.03\n",
      "Episode 980\tAverage Score: 0.04\n",
      "Episode 990\tAverage Score: 0.05\n",
      "Episode 1000\tAverage Score: 0.06\n",
      "Episode 1010\tAverage Score: 0.07\n",
      "Episode 1020\tAverage Score: 0.08\n",
      "Episode 1030\tAverage Score: 0.08\n",
      "Episode 1040\tAverage Score: 0.09\n",
      "Episode 1050\tAverage Score: 0.09\n",
      "Episode 1060\tAverage Score: 0.09\n",
      "Episode 1070\tAverage Score: 0.11\n",
      "Episode 1080\tAverage Score: 0.13\n",
      "Episode 1090\tAverage Score: 0.14\n",
      "Episode 1100\tAverage Score: 0.16\n",
      "Episode 1110\tAverage Score: 0.19\n",
      "Episode 1120\tAverage Score: 0.22\n",
      "Episode 1130\tAverage Score: 0.24\n",
      "Episode 1140\tAverage Score: 0.25\n",
      "Episode 1150\tAverage Score: 0.26\n",
      "Episode 1160\tAverage Score: 0.27\n",
      "Episode 1170\tAverage Score: 0.28\n",
      "Episode 1180\tAverage Score: 0.26\n",
      "Episode 1190\tAverage Score: 0.25\n",
      "Episode 1200\tAverage Score: 0.25\n",
      "Episode 1210\tAverage Score: 0.25\n",
      "Episode 1220\tAverage Score: 0.22\n",
      "Episode 1230\tAverage Score: 0.22\n",
      "Episode 1240\tAverage Score: 0.24\n",
      "Episode 1250\tAverage Score: 0.25\n",
      "Episode 1260\tAverage Score: 0.27\n",
      "Episode 1270\tAverage Score: 0.27\n",
      "Episode 1280\tAverage Score: 0.32\n",
      "Episode 1290\tAverage Score: 0.34\n",
      "Episode 1300\tAverage Score: 0.34\n",
      "Episode 1310\tAverage Score: 0.35\n",
      "Episode 1320\tAverage Score: 0.37\n",
      "Episode 1330\tAverage Score: 0.38\n",
      "Episode 1340\tAverage Score: 0.37\n",
      "Episode 1350\tAverage Score: 0.38\n",
      "Episode 1360\tAverage Score: 0.41\n",
      "Episode 1370\tAverage Score: 0.41\n",
      "Episode 1380\tAverage Score: 0.38\n",
      "Episode 1390\tAverage Score: 0.37\n",
      "Episode 1400\tAverage Score: 0.39\n",
      "Episode 1410\tAverage Score: 0.38\n",
      "Episode 1420\tAverage Score: 0.38\n",
      "Episode 1430\tAverage Score: 0.39\n",
      "Episode 1440\tAverage Score: 0.42\n",
      "Episode 1450\tAverage Score: 0.41\n",
      "Episode 1460\tAverage Score: 0.39\n",
      "Episode 1470\tAverage Score: 0.38\n",
      "Episode 1480\tAverage Score: 0.40\n",
      "Episode 1490\tAverage Score: 0.41\n",
      "Episode 1500\tAverage Score: 0.37\n",
      "Episode 1510\tAverage Score: 0.37\n",
      "Episode 1520\tAverage Score: 0.35\n",
      "Episode 1530\tAverage Score: 0.33\n",
      "Episode 1540\tAverage Score: 0.30\n",
      "Episode 1550\tAverage Score: 0.31\n",
      "Episode 1560\tAverage Score: 0.30\n",
      "Episode 1570\tAverage Score: 0.32\n",
      "Episode 1580\tAverage Score: 0.30\n",
      "Episode 1590\tAverage Score: 0.31\n",
      "Episode 1600\tAverage Score: 0.32\n",
      "Episode 1610\tAverage Score: 0.34\n",
      "Episode 1620\tAverage Score: 0.35\n",
      "Episode 1630\tAverage Score: 0.38\n",
      "Episode 1640\tAverage Score: 0.37\n",
      "Episode 1650\tAverage Score: 0.36\n",
      "Episode 1660\tAverage Score: 0.38\n",
      "Episode 1670\tAverage Score: 0.37\n",
      "Episode 1680\tAverage Score: 0.38\n",
      "Episode 1690\tAverage Score: 0.38\n",
      "Episode 1700\tAverage Score: 0.41\n",
      "Episode 1710\tAverage Score: 0.40\n",
      "Episode 1720\tAverage Score: 0.41\n",
      "Episode 1730\tAverage Score: 0.40\n",
      "Episode 1740\tAverage Score: 0.42\n",
      "Episode 1750\tAverage Score: 0.43\n",
      "Episode 1760\tAverage Score: 0.41\n",
      "Episode 1770\tAverage Score: 0.40\n",
      "Episode 1780\tAverage Score: 0.40\n",
      "Episode 1790\tAverage Score: 0.42\n",
      "Episode 1800\tAverage Score: 0.38\n",
      "Episode 1810\tAverage Score: 0.40\n",
      "Episode 1820\tAverage Score: 0.39\n",
      "Episode 1830\tAverage Score: 0.40\n",
      "Episode 1840\tAverage Score: 0.39\n",
      "Episode 1850\tAverage Score: 0.42\n",
      "Episode 1860\tAverage Score: 0.45\n",
      "Episode 1870\tAverage Score: 0.50\n",
      "Environment solved in 1770 episodes!\tAverage Score: 0.50\n"
     ]
    }
   ],
   "source": [
    "scores = ddpg(env, brain_name, agent, config=config)"
   ]
  },
  {
   "cell_type": "code",
   "execution_count": 14,
   "metadata": {},
   "outputs": [],
   "source": [
    "import matplotlib\n",
    "import matplotlib.pyplot as plt\n",
    "%matplotlib inline  "
   ]
  },
  {
   "cell_type": "code",
   "execution_count": 15,
   "metadata": {},
   "outputs": [
    {
     "data": {
      "image/png": "[encoded data removed]",
      "text/plain": [
       "<matplotlib.figure.Figure at 0x7ff2d6a78198>"
      ]
     },
     "metadata": {
      "needs_background": "light"
     },
     "output_type": "display_data"
    }
   ],
   "source": [
    "fig = plt.figure()\n",
    "ax = fig.add_subplot(111)\n",
    "plt.plot(np.arange(1, len(scores)+1), scores)\n",
    "plt.ylabel('Score')\n",
    "plt.xlabel('Episode #')\n",
    "plt.show()"
   ]
  }
 ],
 "metadata": {
  "kernelspec": {
   "display_name": "Python 3",
   "language": "python",
   "name": "python3"
  },
  "language_info": {
   "codemirror_mode": {
    "name": "ipython",
    "version": 3
   },
   "file_extension": ".py",
   "mimetype": "text/x-python",
   "name": "python",
   "nbconvert_exporter": "python",
   "pygments_lexer": "ipython3",
   "version": "3.6.3"
  }
 },
 "nbformat": 4,
 "nbformat_minor": 2
}
